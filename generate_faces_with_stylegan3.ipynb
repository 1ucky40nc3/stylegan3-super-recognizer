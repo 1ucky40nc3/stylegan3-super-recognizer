{
  "nbformat": 4,
  "nbformat_minor": 0,
  "metadata": {
    "colab": {
      "name": "generate_faces_with_stylegan3.ipynb",
      "provenance": [],
      "collapsed_sections": [],
      "authorship_tag": "ABX9TyPMlhvx0qeV4Pq9iHDN1TaE",
      "include_colab_link": true
    },
    "kernelspec": {
      "name": "python3",
      "display_name": "Python 3"
    },
    "language_info": {
      "name": "python"
    },
    "accelerator": "GPU"
  },
  "cells": [
    {
      "cell_type": "markdown",
      "metadata": {
        "id": "view-in-github",
        "colab_type": "text"
      },
      "source": [
        "<a href=\"https://colab.research.google.com/github/1ucky40nc3/stylegan3-super-recognizer/blob/main/generate_faces_with_stylegan3.ipynb\" target=\"_parent\"><img src=\"https://colab.research.google.com/assets/colab-badge.svg\" alt=\"Open In Colab\"/></a>"
      ]
    },
    {
      "cell_type": "code",
      "metadata": {
        "colab": {
          "base_uri": "https://localhost:8080/"
        },
        "cellView": "form",
        "id": "EXPREWHvqO-R",
        "outputId": "88513d21-0f80-46c9-d416-b35185838ec8"
      },
      "source": [
        "# @title Check if a GPU is connected to the runtime\n",
        "!nvidia-smi"
      ],
      "execution_count": 33,
      "outputs": [
        {
          "output_type": "stream",
          "name": "stdout",
          "text": [
            "Thu Oct 21 17:00:22 2021       \n",
            "+-----------------------------------------------------------------------------+\n",
            "| NVIDIA-SMI 470.74       Driver Version: 460.32.03    CUDA Version: 11.2     |\n",
            "|-------------------------------+----------------------+----------------------+\n",
            "| GPU  Name        Persistence-M| Bus-Id        Disp.A | Volatile Uncorr. ECC |\n",
            "| Fan  Temp  Perf  Pwr:Usage/Cap|         Memory-Usage | GPU-Util  Compute M. |\n",
            "|                               |                      |               MIG M. |\n",
            "|===============================+======================+======================|\n",
            "|   0  Tesla P100-PCIE...  Off  | 00000000:00:04.0 Off |                    0 |\n",
            "| N/A   62C    P0    36W / 250W |      0MiB / 16280MiB |      0%      Default |\n",
            "|                               |                      |                  N/A |\n",
            "+-------------------------------+----------------------+----------------------+\n",
            "                                                                               \n",
            "+-----------------------------------------------------------------------------+\n",
            "| Processes:                                                                  |\n",
            "|  GPU   GI   CI        PID   Type   Process name                  GPU Memory |\n",
            "|        ID   ID                                                   Usage      |\n",
            "|=============================================================================|\n",
            "|  No running processes found                                                 |\n",
            "+-----------------------------------------------------------------------------+\n"
          ]
        }
      ]
    },
    {
      "cell_type": "code",
      "metadata": {
        "colab": {
          "base_uri": "https://localhost:8080/"
        },
        "cellView": "form",
        "id": "mKpOQPhNp-FK",
        "outputId": "e96d7d8e-9a24-4d8c-d071-52729d46a301"
      },
      "source": [
        "# @title Set up an environment (ONLY RUN ONCE)\n",
        "!git clone https://github.com/NVlabs/stylegan3.git\n",
        "!pip install ninja\n",
        "\n",
        "%cd stylegan3/\n",
        "\n",
        "downloaded_models = {}"
      ],
      "execution_count": 18,
      "outputs": [
        {
          "output_type": "stream",
          "name": "stdout",
          "text": [
            "fatal: destination path 'stylegan3' already exists and is not an empty directory.\n",
            "/content/stylegan3\n"
          ]
        }
      ]
    },
    {
      "cell_type": "code",
      "metadata": {
        "colab": {
          "base_uri": "https://localhost:8080/"
        },
        "cellView": "form",
        "id": "ekmTSzx_qsgO",
        "outputId": "edfcc7cb-d62b-48a0-e23f-7bd8217bb37e"
      },
      "source": [
        "# @title Download a StyleGAN3 model\n",
        "model = \"stylegan3-t-ffhq-1024x1024.pkl\" # @param [\"stylegan3-t-ffhq-1024x1024.pkl\", \"tylegan3-t-ffhqu-1024x1024.pkl\", \"stylegan3-t-ffhqu-256x256.pkl\", \"stylegan3-r-ffhq-1024x1024.pkl\", \"stylegan3-r-ffhqu-1024x1024.pkl\", \"stylegan3-r-ffhqu-256x256.pkl\", \"stylegan3-t-metfaces-1024x1024.pkl\", \"stylegan3-t-metfacesu-1024x1024.pkl\", \"stylegan3-r-metfaces-1024x1024.pkl\", \"stylegan3-r-metfacesu-1024x1024.pkl\", \"stylegan3-t-afhqv2-512x512.pkl\"]\n",
        "\n",
        "if model not in downloaded_models:\n",
        "    # Create the url to the resource.\n",
        "    url = f\"https://api.ngc.nvidia.com/v2/models/nvidia/research/stylegan3/versions/1/files/{model}\"\n",
        "    print(\"[INFO] Downloading the model from NVIDIA.\")\n",
        "\n",
        "    # Download the pretrained model. \n",
        "    !wget $url\n",
        "\n",
        "    # Mark the model as downloaded.\n",
        "    downloaded_models[model] = url\n",
        "else:\n",
        "    print(\"[INFO] The model has already been downloaded.\")"
      ],
      "execution_count": 24,
      "outputs": [
        {
          "output_type": "stream",
          "name": "stdout",
          "text": [
            "[INFO] The model has already been downloaded.\n"
          ]
        }
      ]
    },
    {
      "cell_type": "code",
      "metadata": {
        "colab": {
          "base_uri": "https://localhost:8080/"
        },
        "id": "5UMYeUsMuG00",
        "outputId": "d805eb4c-493d-496a-f7c8-97390df5a6b8"
      },
      "source": [
        "!python gen_images.py --outdir=out --trunc=1 --seeds=2 \\\n",
        "    --network=$model"
      ],
      "execution_count": 31,
      "outputs": [
        {
          "output_type": "stream",
          "name": "stdout",
          "text": [
            "Loading networks from \"stylegan3-t-ffhq-1024x1024.pkl\"...\n",
            "Generating image for seed 2 (0/1) ...\n",
            "Setting up PyTorch plugin \"bias_act_plugin\"... Done.\n",
            "Setting up PyTorch plugin \"filtered_lrelu_plugin\"... Done.\n"
          ]
        }
      ]
    },
    {
      "cell_type": "code",
      "metadata": {
        "colab": {
          "base_uri": "https://localhost:8080/"
        },
        "id": "xZXd88RbusnP",
        "outputId": "4ea11156-3c09-481c-cdc1-954f8d0c5c8e"
      },
      "source": [
        "!python gen_video.py --output=lerp.mp4 --trunc=1 --seeds=0-31 --grid=4x2 \\\n",
        "    --network=$model"
      ],
      "execution_count": 32,
      "outputs": [
        {
          "output_type": "stream",
          "name": "stdout",
          "text": [
            "Loading networks from \"stylegan3-t-ffhq-1024x1024.pkl\"...\n",
            "Setting up PyTorch plugin \"bias_act_plugin\"... Done.\n",
            "Setting up PyTorch plugin \"filtered_lrelu_plugin\"... Done.\n",
            "100% 480/480 [08:48<00:00,  1.10s/it]\n"
          ]
        }
      ]
    }
  ]
}