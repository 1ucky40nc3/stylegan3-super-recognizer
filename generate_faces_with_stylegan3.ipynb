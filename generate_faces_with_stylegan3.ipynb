{
  "nbformat": 4,
  "nbformat_minor": 0,
  "metadata": {
    "colab": {
      "name": "generate_faces_with_stylegan3.ipynb",
      "provenance": [],
      "collapsed_sections": [],
      "authorship_tag": "ABX9TyMv0IwhzTrlJXq7osDEIonl",
      "include_colab_link": true
    },
    "kernelspec": {
      "name": "python3",
      "display_name": "Python 3"
    },
    "language_info": {
      "name": "python"
    },
    "accelerator": "GPU"
  },
  "cells": [
    {
      "cell_type": "markdown",
      "metadata": {
        "id": "view-in-github",
        "colab_type": "text"
      },
      "source": [
        "<a href=\"https://colab.research.google.com/github/1ucky40nc3/stylegan3-super-recognizer/blob/dev/generate_faces_with_stylegan3.ipynb\" target=\"_parent\"><img src=\"https://colab.research.google.com/assets/colab-badge.svg\" alt=\"Open In Colab\"/></a>"
      ]
    },
    {
      "cell_type": "code",
      "metadata": {
        "colab": {
          "base_uri": "https://localhost:8080/"
        },
        "cellView": "form",
        "id": "EXPREWHvqO-R",
        "outputId": "2814e2f9-b90f-4e8d-c85c-9a91f4588ccf"
      },
      "source": [
        "# @title Check if a GPU is connected to the runtime\n",
        "!nvidia-smi"
      ],
      "execution_count": 1,
      "outputs": [
        {
          "output_type": "stream",
          "name": "stdout",
          "text": [
            "Thu Oct 21 18:56:12 2021       \n",
            "+-----------------------------------------------------------------------------+\n",
            "| NVIDIA-SMI 470.74       Driver Version: 460.32.03    CUDA Version: 11.2     |\n",
            "|-------------------------------+----------------------+----------------------+\n",
            "| GPU  Name        Persistence-M| Bus-Id        Disp.A | Volatile Uncorr. ECC |\n",
            "| Fan  Temp  Perf  Pwr:Usage/Cap|         Memory-Usage | GPU-Util  Compute M. |\n",
            "|                               |                      |               MIG M. |\n",
            "|===============================+======================+======================|\n",
            "|   0  Tesla P100-PCIE...  Off  | 00000000:00:04.0 Off |                    0 |\n",
            "| N/A   35C    P0    28W / 250W |      0MiB / 16280MiB |      0%      Default |\n",
            "|                               |                      |                  N/A |\n",
            "+-------------------------------+----------------------+----------------------+\n",
            "                                                                               \n",
            "+-----------------------------------------------------------------------------+\n",
            "| Processes:                                                                  |\n",
            "|  GPU   GI   CI        PID   Type   Process name                  GPU Memory |\n",
            "|        ID   ID                                                   Usage      |\n",
            "|=============================================================================|\n",
            "|  No running processes found                                                 |\n",
            "+-----------------------------------------------------------------------------+\n"
          ]
        }
      ]
    },
    {
      "cell_type": "code",
      "metadata": {
        "cellView": "form",
        "id": "mKpOQPhNp-FK"
      },
      "source": [
        "# @title Set up an environment (ONLY RUN ONCE)\n",
        "!git clone https://github.com/NVlabs/stylegan3.git\n",
        "!pip install ninja\n",
        "\n",
        "%cd stylegan3/\n",
        "\n",
        "downloaded_models = {}"
      ],
      "execution_count": null,
      "outputs": []
    },
    {
      "cell_type": "code",
      "metadata": {
        "cellView": "form",
        "id": "ekmTSzx_qsgO"
      },
      "source": [
        "# @title Download a StyleGAN3 model\n",
        "model = \"stylegan3-t-ffhq-1024x1024.pkl\" # @param [\"stylegan3-t-ffhq-1024x1024.pkl\", \"tylegan3-t-ffhqu-1024x1024.pkl\", \"stylegan3-t-ffhqu-256x256.pkl\", \"stylegan3-r-ffhq-1024x1024.pkl\", \"stylegan3-r-ffhqu-1024x1024.pkl\", \"stylegan3-r-ffhqu-256x256.pkl\", \"stylegan3-t-metfaces-1024x1024.pkl\", \"stylegan3-t-metfacesu-1024x1024.pkl\", \"stylegan3-r-metfaces-1024x1024.pkl\", \"stylegan3-r-metfacesu-1024x1024.pkl\", \"stylegan3-t-afhqv2-512x512.pkl\"]\n",
        "\n",
        "if model not in downloaded_models:\n",
        "    # Create the url to the resource.\n",
        "    url = f\"https://api.ngc.nvidia.com/v2/models/nvidia/research/stylegan3/versions/1/files/{model}\"\n",
        "    print(\"[INFO] Downloading the model from NVIDIA.\")\n",
        "\n",
        "    # Download the pretrained model. \n",
        "    !wget $url\n",
        "\n",
        "    # Mark the model as downloaded.\n",
        "    downloaded_models[model] = url\n",
        "else:\n",
        "    print(\"[INFO] The model has already been downloaded.\")"
      ],
      "execution_count": null,
      "outputs": []
    },
    {
      "cell_type": "code",
      "metadata": {
        "colab": {
          "base_uri": "https://localhost:8080/"
        },
        "id": "5UMYeUsMuG00",
        "outputId": "d805eb4c-493d-496a-f7c8-97390df5a6b8"
      },
      "source": [
        "!python gen_images.py --outdir=out --trunc=1 --seeds=2 \\\n",
        "    --network=$model"
      ],
      "execution_count": 31,
      "outputs": [
        {
          "output_type": "stream",
          "name": "stdout",
          "text": [
            "Loading networks from \"stylegan3-t-ffhq-1024x1024.pkl\"...\n",
            "Generating image for seed 2 (0/1) ...\n",
            "Setting up PyTorch plugin \"bias_act_plugin\"... Done.\n",
            "Setting up PyTorch plugin \"filtered_lrelu_plugin\"... Done.\n"
          ]
        }
      ]
    },
    {
      "cell_type": "code",
      "metadata": {
        "colab": {
          "base_uri": "https://localhost:8080/"
        },
        "id": "xZXd88RbusnP",
        "outputId": "4ea11156-3c09-481c-cdc1-954f8d0c5c8e"
      },
      "source": [
        "!python gen_video.py --output=lerp.mp4 --trunc=1 --seeds=0-31 --grid=4x2 \\\n",
        "    --network=$model"
      ],
      "execution_count": 32,
      "outputs": [
        {
          "output_type": "stream",
          "name": "stdout",
          "text": [
            "Loading networks from \"stylegan3-t-ffhq-1024x1024.pkl\"...\n",
            "Setting up PyTorch plugin \"bias_act_plugin\"... Done.\n",
            "Setting up PyTorch plugin \"filtered_lrelu_plugin\"... Done.\n",
            "100% 480/480 [08:48<00:00,  1.10s/it]\n"
          ]
        }
      ]
    },
    {
      "cell_type": "code",
      "metadata": {
        "id": "I4ZaJvlDNbh5"
      },
      "source": [
        "from typing import Tuple\n",
        "from typing import Optional\n",
        "\n",
        "import torch\n",
        "import numpy as np\n",
        "from numpy.random import RandomState\n",
        "from PIL import Image\n",
        "\n",
        "from dnnlib.util import open_url\n",
        "from legacy import load_network_pkl\n",
        "from gen_images import make_transform\n",
        "\n",
        "device = torch.device('cuda')"
      ],
      "execution_count": 70,
      "outputs": []
    },
    {
      "cell_type": "code",
      "metadata": {
        "id": "gUYecEMkZJif"
      },
      "source": [
        "def generate(url: str,\n",
        "             seed: int=2,\n",
        "             translate: Tuple[float, float]=(0., 0.),\n",
        "             rotate: float=0.,\n",
        "             class_idx: Optional[int]=None,\n",
        "             truncation_psi: float=1.,\n",
        "             noise_mode: str='const') -> torch.Tensor:\n",
        "    # Note: The first inference run may take longer because of plugins beeing set up.\n",
        "\n",
        "    with open_url(url) as pkl:\n",
        "        model = load_network_pkl(pkl)[\"G_ema\"]\n",
        "        model = model.to(device)\n",
        "\n",
        "    # Generate the image seed.\n",
        "    z = RandomState(seed).randn(1, model.z_dim)\n",
        "    z = torch.from_numpy(z).to(device)\n",
        "\n",
        "    # Compute an inverse rotation/translation matrix for the GAN.\n",
        "    if hasattr(model.synthesis, 'input'):\n",
        "        matrix = make_transform(translate, rotate)\n",
        "        matrix = np.linalg.inv(matrix)\n",
        "        matrix = torch.from_numpy(matrix)\n",
        "\n",
        "        model.synthesis.input.transform.copy_(matrix)\n",
        "    \n",
        "    # Set class labels in the case for conditional networks.\n",
        "    label = torch.zeros(1, model.c_dim, device=device)\n",
        "\n",
        "    if model.c_dim != 0:\n",
        "        assert class_idx, \"The conditional network was trained with class labels and none was provided!\"\n",
        "        label[:, class_idx] = 1\n",
        "    \n",
        "    return model(z, label, truncation_psi=truncation_psi, noise_mode=noise_mode).cpu()"
      ],
      "execution_count": 64,
      "outputs": []
    },
    {
      "cell_type": "code",
      "metadata": {
        "id": "BjohVQqeTM0M"
      },
      "source": [
        "def transform(img: torch.Tensor) -> torch.Tensor:\n",
        "    # reshape from (batch, channels, height, width) to (batch, height, width, channels)\n",
        "    img = img.permute(0, 2, 3, 1)\n",
        "    \n",
        "    # normalize the image from approximately [-1, 1] to [0, 255]\n",
        "    img = img*127.5 + 128\n",
        "    img = img.clamp(0, 255)\n",
        "\n",
        "    return img.to(torch.uint8)"
      ],
      "execution_count": 67,
      "outputs": []
    },
    {
      "cell_type": "code",
      "metadata": {
        "id": "scmUBf60WN7p"
      },
      "source": [
        "def save(img: torch.Tensor, filename: str=\"img.png\"):\n",
        "    img = img.numpy()\n",
        "    Image.fromarray(img, 'RGB').save('img.png')"
      ],
      "execution_count": 68,
      "outputs": []
    },
    {
      "cell_type": "code",
      "metadata": {
        "id": "rnKKG0oicoxo"
      },
      "source": [
        "img = generate(model)\n",
        "img = transform(img)\n",
        "save(img[0].cpu())"
      ],
      "execution_count": 69,
      "outputs": []
    }
  ]
}